{
 "cells": [
  {
   "cell_type": "markdown",
   "metadata": {},
   "source": [
    "<table border=\"1\" cellpadding=\"5\" cellspacing=\"0\" width=\"100%\">\n",
    "   <tr>\n",
    "      <!--<td align=\"left\" valign=\"top\" width=\"120\"><img src=\"./pictures/octopeek-logo.png\" width=\"120\" /></td>-->\n",
    "      <td align=\"left\" valign=\"top\" width=\"120\"><img src=\"https://media-exp1.licdn.com/dms/image/C510BAQE93sqc09g7qg/company-logo_200_200/0?e=2159024400&v=beta&t=Ebcbl-_mVoiGn-jo8xRX3V0iuAckEhZXnLKcmnOv2Wk\" width=\"120\" /></td>\n",
    "      <td valign=\"top\" width=\"100%\" align=\"center\"><h1><font color=\"blue\">Enseignement d'Intégration - Sujet Octopeek</font></h1>\n",
    "      <p align=\"right\"><h2>Analyse de sentiments sur des Tweets</h2></p>\n",
    "   </tr>\n",
    "</table>"
   ]
  },
  {
   "cell_type": "markdown",
   "metadata": {},
   "source": [
    "# Collecte de données Twitter\n",
    "\n",
    "Ce notebook a pour objectif la collecte des données pour votre analyse"
   ]
  },
  {
   "cell_type": "markdown",
   "metadata": {},
   "source": [
    "## Création d'une application Twitter\n",
    "\n",
    "Pour accéder à l'API Twitter, vous devez créer un compte développeur :\n",
    "\n",
    "<https://developer.twitter.com/en/apply-for-access>\n",
    "\n",
    "Il sera associé à un compte Twitter (donc si vous n'en avez pas déjà un, il faudra le créer avant le compte développeur).\n",
    "\n",
    "Puis vous créez une \"application\" (il faut chercher à partir de l'interface développeur). Vous devez entrer des informations concernant l'application afin que celle-ci soit validée par Twitter (c'est assez rapide en général). Expliquez (sur le formulaire ou en répondant au mail de Twitter) qu'elle est destinée à de l'analyse de données pour un projet étudiant sur l'analyse de sentiment. N'hésitez pas à bien détailler même si ce n'est pas tout à fait exacte. Vos réponses doivent être uniques afin que Twitter puisse valider en toute confiance votre application."
   ]
  },
  {
   "cell_type": "markdown",
   "metadata": {},
   "source": [
    "## Instanciation de l'API Twitter"
   ]
  },
  {
   "cell_type": "code",
   "execution_count": null,
   "metadata": {},
   "outputs": [],
   "source": [
    "# Installation de tweepy :\n",
    "!pip install tweepy"
   ]
  },
  {
   "cell_type": "code",
   "execution_count": null,
   "metadata": {},
   "outputs": [],
   "source": [
    "# Ajout de vos identifiants et tokens (il y a un bouton qui vous permet de les générer sur le site web) :\n",
    "consumer_key = 'xxx'\n",
    "consumer_secret = 'xxx'\n",
    "access_token = 'xxx'\n",
    "access_token_secret = 'xxx'"
   ]
  },
  {
   "cell_type": "code",
   "execution_count": null,
   "metadata": {},
   "outputs": [],
   "source": [
    "# En utilisant la documentation de Tweepy, importez `tweepy` et initialisez une instance de `tweepy.API` :\n"
   ]
  },
  {
   "cell_type": "markdown",
   "metadata": {},
   "source": [
    "<div class=\"alert alert-block alert-success\">\n",
    "Vous trouverez toutes les informations nécessaires sur la <a href=\"http://docs.tweepy.org/en/latest/getting_started.html#hello-tweepy\">documentation de Tweepy</a>\n",
    "</div>"
   ]
  },
  {
   "cell_type": "markdown",
   "metadata": {},
   "source": [
    "## Récolte des tweets"
   ]
  },
  {
   "cell_type": "markdown",
   "metadata": {},
   "source": [
    "Récoltez au moins 20 000 tweets à partir de différentes requêtes que vous aurez établies en fonction des objectifs du projet. Utilisez [l'API search](http://docs.tweepy.org/en/latest/api.html#help-methods). Plus vous aurez de tweets, plus vos analyses seront fiables. Vous pouvez laisser tourner la récolte plusieurs heures.\n",
    "\n",
    "Vous stockerez les tweets dans un dictionnaire avec comme clef les identifiants de tweets et comme valeur [l'objet Tweet](https://developer.twitter.com/en/docs/tweets/data-dictionary/overview/tweet-object). N'oubliez pas de filtrer en langue anglaise. Utilisez un `Cursor` en cherchant dans la documentation Tweepy ou en trouvant des exemples. Vous aurez également besoin des [opérateurs](https://developer.twitter.com/en/docs/tweets/rules-and-filtering/overview/standard-operators) de recherche (e.g. les guillemets, le `OR`, l'opération `-`). Cherchez comment exclure les *retweets*. Certains tweets sont tronqués lorsqu'ils font plus de 180 caractères, vous pouvez utiliser la [version extended](https://github.com/tweepy/tweepy/issues/935).\n",
    "\n",
    "Si vous avez créer plusieurs dictionnaire (pour chaque catégorie de requete par exemple), vous devez éliminer les doublons de tweets (par id)."
   ]
  },
  {
   "cell_type": "code",
   "execution_count": null,
   "metadata": {},
   "outputs": [],
   "source": [
    "# Votre code :\n"
   ]
  },
  {
   "cell_type": "markdown",
   "metadata": {},
   "source": [
    "<div class=\"alert alert-block alert-success\">\n",
    "Pensez à la fiabilité de vos données, si par exemple vous voulez les tweets parlant d'une décision politique de Trump vis-à-vis d'un sujet A (pour en avoir le sentiment général) mais que la majorité de vos tweets sont en réalité associé à un sujet connexe B, alors vos analyse seront faussées. Pour cela il faut regarder quelques exemples de Tweet (vous pouvez utiliser le site web Twitter et sa fonction de recherche).\n",
    "</div>"
   ]
  },
  {
   "cell_type": "markdown",
   "metadata": {},
   "source": [
    "<div class=\"alert alert-block alert-success\">\n",
    "Twitter impose une <a href=\"https://developer.twitter.com/en/docs/basics/rate-limiting\">limite de requêtes sur une fenetre de temps</a>, donc si vous voulez accelerer votre récolte, vous pouvez :\n",
    "<ul>\n",
    "    <li>Soit changer de compte Twitter en ré-instanciant un objet tweepy.API à chaque fois que vous avez une exception de type \"Rate limit exceeded\". N'oubliez pas mettre un time.sleep pour éviter les chaines d'exception trop rapides.</li>\n",
    "    <li>Soit en collectant les données sur plusieurs notebooks avec vos comptes respectifs. Vous pourrez alors mettre wait_on_rate_limit=True pour éviter les exceptions.</li>\n",
    "</ul>\n",
    "Pensez à bien répartir les requêtes par mots clef et dans le temps en utilisant des fenêtres de 1 jour avec les paramètres since et until. Cela permet de paralléliser et de ne pas refaire les mêmes requêtes. Pour rappel, vous ne pourrez pas aller plus loin que 7 jours dans le passé (limite de Twitter).\n",
    "</div>"
   ]
  },
  {
   "cell_type": "markdown",
   "metadata": {},
   "source": [
    "## Élagage des données"
   ]
  },
  {
   "cell_type": "markdown",
   "metadata": {},
   "source": [
    "Conservez uniquement les informations nécessaires à vos analyses (e.g. `id`, `text`, `created_at`, `retweet_count`, `favorite_count`). Vous devez utiliser les attributs de [l'objet Tweet](https://developer.twitter.com/en/docs/tweets/data-dictionary/overview/tweet-object). "
   ]
  },
  {
   "cell_type": "code",
   "execution_count": null,
   "metadata": {},
   "outputs": [],
   "source": [
    "# Élagage :\n"
   ]
  },
  {
   "cell_type": "markdown",
   "metadata": {},
   "source": [
    "<div class=\"alert alert-block alert-success\">\n",
    "Avant l'élaguage, vous pouvez aussi <a href=\"https://stackoverflow.com/questions/27900451/convert-tweepy-status-object-into-json\">sérialiser toutes les données des objets Tweepy</a>. Cela peut être utile si, plus tard, vous voulez revenir en arrière, sans devoir refaire les requêtes, pour selectionner un autre champs pour vos analyses (par exemple si vous voulez prendre en compte le nombre de retweets).\n",
    "</div>"
   ]
  },
  {
   "cell_type": "markdown",
   "metadata": {},
   "source": [
    "## Sauvegarde des données\n",
    "\n",
    "Sauvegardez vos tweets avec pickle. L'objet sauvegardé doit être une liste de dictionnaires contenants au moins les champs `id` et `texte`. Exemple : `[{'text': 'Text of the first tweet.', 'id': 10}, {'text': 'Text of the second tweet.', 'id': 11}, ...]`. Vous pouvez bien entendu ajouter vos propres champs (catégorie...).\n",
    "\n",
    "Votre fichier se nommera `group<X>_<dataname>_projectdata.pickle` avec `X` le numéro de votre groupe et `dataname` le nom de votre projet en enlevant les chevrons. Le fichier est à uploadé sur vos serveurs Jupyter attribués. Il pourra être mis à jour au fur et à mesure."
   ]
  },
  {
   "cell_type": "code",
   "execution_count": null,
   "metadata": {},
   "outputs": [],
   "source": [
    "# Sauvegarde des données en .pickle:\n"
   ]
  },
  {
   "cell_type": "markdown",
   "metadata": {},
   "source": [
    "<div class=\"alert alert-block alert-success\">\n",
    "Lorsque vous ne connaissez pas un outil ou une notion, le premier réflèxe que vous devez avoir est de <b>comprendre</b> et <b>trouver des exemples</b>. Pour la sauvegarde pickle, vous chercherez par exemple \"pickle\" sur un moteur de recherche et vous trouverez la <a href=\"https://docs.python.org/3/library/pickle.html\">documentation</a> ou des <a href=\"https://yasoob.me/2013/08/02/what-is-pickle-in-python\">articles expliquant son utilisation</a>. Lorsqu'il s'agit de traitements basiques comme pour la sauvegarde pickle, vous chercherez des exemples à copier en tapant par exemple \"How to pickle a list?\", vous trouverez alors des <a href=\"https://stackoverflow.com/questions/25464295/how-to-pickle-a-list/25465148\">solutions</a>, souvent sur le site *StackOverflow*.\n",
    "</div>"
   ]
  }
 ],
 "metadata": {
  "kernelspec": {
   "display_name": "Python 3",
   "language": "python",
   "name": "python3"
  },
  "language_info": {
   "codemirror_mode": {
    "name": "ipython",
    "version": 3
   },
   "file_extension": ".py",
   "mimetype": "text/x-python",
   "name": "python",
   "nbconvert_exporter": "python",
   "pygments_lexer": "ipython3",
   "version": "3.7.9"
  }
 },
 "nbformat": 4,
 "nbformat_minor": 2
}
