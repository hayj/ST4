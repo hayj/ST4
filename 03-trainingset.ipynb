{
 "cells": [
  {
   "cell_type": "markdown",
   "metadata": {},
   "source": [
    "<table border=\"1\" cellpadding=\"5\" cellspacing=\"0\" width=\"100%\">\n",
    "   <tr>\n",
    "      <!--<td align=\"left\" valign=\"top\" width=\"120\"><img src=\"./pictures/octopeek-logo.png\" width=\"120\" /></td>-->\n",
    "      <td align=\"left\" valign=\"top\" width=\"120\"><img src=\"https://media-exp1.licdn.com/dms/image/C510BAQE93sqc09g7qg/company-logo_200_200/0?e=2159024400&v=beta&t=Ebcbl-_mVoiGn-jo8xRX3V0iuAckEhZXnLKcmnOv2Wk\" width=\"120\" /></td>\n",
    "      <td valign=\"top\" width=\"100%\" align=\"center\"><h1><font color=\"blue\">Enseignement d'Intégration - Sujet Octopeek</font></h1>\n",
    "      <p align=\"right\"><h2>Analyse de sentiments sur des Tweets</h2></p>\n",
    "      <p align=\"right\"><h2>date : 08 au 12 juin 2020</p></h2></td>   \n",
    "   </tr>\n",
    "</table>"
   ]
  },
  {
   "cell_type": "markdown",
   "metadata": {},
   "source": [
    "# Données d'entrainement\n",
    "\n",
    "Ce notebook est destiné à la préparation des données d'entrainement. Les données vous permettront d'entrainer un modèle de prédiction de sentiment dans le texte. Ce travail est indépendant des données de votre projet."
   ]
  },
  {
   "cell_type": "markdown",
   "metadata": {},
   "source": [
    "## Récupération de données d'entrainement"
   ]
  },
  {
   "cell_type": "markdown",
   "metadata": {},
   "source": [
    "Trouvez sur internet des jeux de données (au minium 2) en langue anglaise pouvant permettre d'entrainer un modèle de prédiction de polarité. Chaque ligne du jeu de données doit avoir au minimum un texte brut ainsi qu'un label de polarité. Le jeu de données ne doit pas forcement être composé de tweets. A noter cependant que votre modèle final sera évalué sur des données de type tweets.\n",
    "\n",
    "Conservez la source de ces données (le lien vers les données et l'article scientifique s'il existe). Vous devez présenter (dans votre rapport et durant la présentation) les données, et les avantages / désavantages :\n",
    "\n",
    " 1. des labels de ces données ;\n",
    " 2. de la fiabilité de leur collecte ou de leur détermination (par ceux qui ont construit le jeu de données) ;\n",
    " 3. des données en elles-mêmes vis-à-vis de vos besoins."
   ]
  },
  {
   "cell_type": "code",
   "execution_count": null,
   "metadata": {},
   "outputs": [],
   "source": [
    "# Lecture du ou des fichiers :\n"
   ]
  },
  {
   "cell_type": "markdown",
   "metadata": {},
   "source": [
    "<div class=\"alert alert-block alert-success\">\n",
    "Vous devez choisir un jeu de données qui permettra à votre modèle de bien généraliser et bien s’entraîner. Vous pouvez en choisir plusieurs et les fusionner. Justifiez vos choix dans le rapport. Ici l'important c'est de réussir le challenge, quitte à être un peu moins précis sur le \"domaine\" de vos données projet.\n",
    "</div>"
   ]
  },
  {
   "cell_type": "markdown",
   "metadata": {},
   "source": [
    "<div class=\"alert alert-block alert-success\">\n",
    "Vérifiez bien que votre jeu de donnée comporte la classe \"neutral\" (regardez bien en parcourant les données car certains jeux de données prévoient cette classe mais n'ont aucun tweet de cette classe). Dans vos données projet, la plupart des tweets ne correspondront à aucun sentiment, ils seront neutres. Le problème est que votre modèle entraîné avec ce type de jeu de données ne pourra pas vous prédire les tweets neutres, il donnera toujours soit positif soit négatif. Il y a 2 solutions à cela : soit vous utilisez un autre jeu de données, soit vous introduisez des tweets aléatoirement qui ne viennent pas d'un jeu de données de sentiment et vous les considérez neutres. Cette solution peut biaiser l'apprentissage, mais vous profitez de plus de données. Attention à être cohérent en terme de nombre d'echantillons (avoir un nombre de tweets neutres du même ordre de grandeur). Nous pouvons vous fournir des tweets aléatoires si vous le demandez.\n",
    "</div>"
   ]
  },
  {
   "cell_type": "markdown",
   "metadata": {},
   "source": [
    "## Sauvegarde des données brutes"
   ]
  },
  {
   "cell_type": "markdown",
   "metadata": {},
   "source": [
    "Sauvegardez le jeu de données en fichier serialisé \"pickle\". Le format doit correspondre à notre format, i.e. une liste de dictionnaires ayant au minimum les champs \"text\" et \"polarity\". Exemple `[{'text': 'Raw text of the first sample.', 'polarity': 'neutral'}, {'text': 'Raw text of the second sample.', 'polarity': 'positive'}, ...]`. Si le format n'est pas respecté alors nous ne pourrons pas tester votre modèle.\n",
    "\n",
    "Vous nommerez le fichier `group<X>_<dataname>_rawdata.pickle` avec `X` le numéro de votre groupe et `dataname` le nom du dataset en enlevant les chevrons. Si le jeu de données n'a pas de nom, vous pouvez en inventer un qui reflète la source (e.g. site web, article) ou le \"domaine\" des données (i.e. le topic, le type de données texte)"
   ]
  },
  {
   "cell_type": "code",
   "execution_count": null,
   "metadata": {},
   "outputs": [],
   "source": [
    "# Conversion en liste de dictionnaires :\n"
   ]
  },
  {
   "cell_type": "code",
   "execution_count": null,
   "metadata": {},
   "outputs": [],
   "source": [
    "# Serialisation pickle :\n"
   ]
  },
  {
   "cell_type": "markdown",
   "metadata": {},
   "source": [
    "<div class=\"alert alert-block alert-success\">\n",
    "Lorsque vous ne connaissez pas un outil ou une notion, le premier réflèxe que vous devez avoir est de <b>comprendre</b> et <b>trouver des exemples</b>. Pour la sauvegarde pickle, vous chercherez par exemple \"pickle\" sur un moteur de recherche et vous trouverez la <a href=\"https://docs.python.org/3/library/pickle.html\">documentation</a> ou des <a href=\"https://yasoob.me/2013/08/02/what-is-pickle-in-python\">articles expliquant son utilisation</a>. Lorsqu'il s'agit de traitements basiques comme pour la sauvegarde pickle, vous chercherez des exemples à copier en tapant par exemple \"How to pickle a list?\", vous trouverez alors des <a href=\"https://stackoverflow.com/questions/25464295/how-to-pickle-a-list/25465148\">solutions</a>, souvent sur le site *StackOverflow*.\n",
    "</div>"
   ]
  },
  {
   "cell_type": "markdown",
   "metadata": {},
   "source": [
    "## Prétraitement du texte brut"
   ]
  },
  {
   "cell_type": "markdown",
   "metadata": {},
   "source": [
    "Vous devez prétraiter les données textuelles en éliminant les liens, les accents et les caractères spéciaux. Vous devez conserver les émoticônes, les hashtags et les mentions @. Les labels doivent prendre les valeurs `-1` pour négatif, `0` pour neutre et `1` pour positif. Si l'échelle est pus grande, appliquez des seuils en justifiant vos choix."
   ]
  },
  {
   "cell_type": "code",
   "execution_count": null,
   "metadata": {},
   "outputs": [],
   "source": [
    "# Création des fonctions de prétraitement du texte et tests de ces fonctions :\n"
   ]
  },
  {
   "cell_type": "markdown",
   "metadata": {},
   "source": [
    "<div class=\"alert alert-block alert-success\">\n",
    "Vous aurez besoin de ces fonctions pour la suite du projet, nous vous conseillons de les exportées dans un fichier nommé <strong>utils.py</strong>. Puis importez le module dans la cellcule au dessus. Vous placerez toutes les fonctions communes aux différents notebook dans ce fichier.\n",
    "</div>"
   ]
  },
  {
   "cell_type": "code",
   "execution_count": null,
   "metadata": {},
   "outputs": [],
   "source": [
    "# Prétraitement de chaque champs `text` du jeu de données :\n"
   ]
  },
  {
   "cell_type": "code",
   "execution_count": null,
   "metadata": {},
   "outputs": [],
   "source": [
    "# Création de la fonction de conversion des labels :\n"
   ]
  },
  {
   "cell_type": "code",
   "execution_count": null,
   "metadata": {},
   "outputs": [],
   "source": [
    "# Conversion de tous les labels :\n"
   ]
  },
  {
   "cell_type": "markdown",
   "metadata": {},
   "source": [
    "<div class=\"alert alert-block alert-success\">\n",
    "Lorsque vous prétraitez le jeu de données, évitez d'effectuer les étapes de <strong>tokenization</strong> et de <strong>lemmatization</strong> qui vont trop dénaturer les données brutes, ceci afin d'éviter de ne trop contraindre l'utilisation des modèles que vous pourrez utiliser.\n",
    "</div>"
   ]
  },
  {
   "cell_type": "markdown",
   "metadata": {},
   "source": [
    "## Sauvegarde des données prétraitées"
   ]
  },
  {
   "cell_type": "markdown",
   "metadata": {},
   "source": [
    "Sauvegardez les données prétraitées selon le même format (liste de dicts pickle) en nommant le fichier `group<X>_<dataname>_preprocessed.pickle`."
   ]
  },
  {
   "cell_type": "code",
   "execution_count": null,
   "metadata": {},
   "outputs": [],
   "source": [
    "# Sauvegarde des données en fichier .pickle:\n"
   ]
  },
  {
   "cell_type": "markdown",
   "metadata": {},
   "source": [
    "## Statitiques"
   ]
  },
  {
   "cell_type": "markdown",
   "metadata": {},
   "source": [
    "Cette partie est libre. Vous proposerez un aperçu de votre jeu de données pour votre rapport et présentation. Vous pourez par exemple donner le nombre d'exemples dans votre jeu de données, la taille moyenne des textes, la proportion de chaque label. Vous proposerez un visuel, par exemple un nuage de mots (vous aurez peut-être besoin de la pondération TFIDF), un histogramme des émoticônes en fonction de la polarité ou tout autre graphe original..."
   ]
  },
  {
   "cell_type": "code",
   "execution_count": null,
   "metadata": {},
   "outputs": [],
   "source": [
    "# Présentation de quelques chiffres :\n"
   ]
  },
  {
   "cell_type": "code",
   "execution_count": 1,
   "metadata": {},
   "outputs": [],
   "source": [
    "# Création de, au moins, un graphique :\n"
   ]
  },
  {
   "cell_type": "markdown",
   "metadata": {},
   "source": [
    "<div class=\"alert alert-block alert-success\">\n",
    "Pour la partie graphique, vous pouvez utiliser <a href=\"https://docs.bokeh.org/en/latest/index.html\">Bokeh</a> ou <a href=\"https://matplotlib.org/\">Matplotlib</a>. Encore une fois, n'hésitez pas à reprendre des exemples sur internet.\n",
    "</div>"
   ]
  }
 ],
 "metadata": {
  "kernelspec": {
   "display_name": "Python 3",
   "language": "python",
   "name": "python3"
  },
  "language_info": {
   "codemirror_mode": {
    "name": "ipython",
    "version": 3
   },
   "file_extension": ".py",
   "mimetype": "text/x-python",
   "name": "python",
   "nbconvert_exporter": "python",
   "pygments_lexer": "ipython3",
   "version": "3.6.6"
  }
 },
 "nbformat": 4,
 "nbformat_minor": 2
}
